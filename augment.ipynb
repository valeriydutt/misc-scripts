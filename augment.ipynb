{
 "metadata": {
  "language_info": {
   "codemirror_mode": {
    "name": "ipython",
    "version": 3
   },
   "file_extension": ".py",
   "mimetype": "text/x-python",
   "name": "python",
   "nbconvert_exporter": "python",
   "pygments_lexer": "ipython3",
   "version": "3.8.5"
  },
  "orig_nbformat": 2,
  "kernelspec": {
   "name": "python385jvsc74a57bd04914696aa8456cd0de7fff0911a7114a2a8751e59ed81840d627416500025d7b",
   "display_name": "Python 3.8.5 64-bit"
  },
  "metadata": {
   "interpreter": {
    "hash": "4914696aa8456cd0de7fff0911a7114a2a8751e59ed81840d627416500025d7b"
   }
  }
 },
 "nbformat": 4,
 "nbformat_minor": 2,
 "cells": [
  {
   "cell_type": "code",
   "execution_count": 4,
   "metadata": {},
   "outputs": [
    {
     "output_type": "error",
     "ename": "SyntaxError",
     "evalue": "(unicode error) 'unicodeescape' codec can't decode bytes in position 2-3: truncated \\UXXXXXXXX escape (<ipython-input-4-df310e81b3a2>, line 5)",
     "traceback": [
      "\u001b[1;36m  File \u001b[1;32m\"<ipython-input-4-df310e81b3a2>\"\u001b[1;36m, line \u001b[1;32m5\u001b[0m\n\u001b[1;33m    image = imageio.imread(\"C:\\Users\\Owner\\Desktop\\dissertation\\data\\train\\13_left.jpeg\")\u001b[0m\n\u001b[1;37m                           ^\u001b[0m\n\u001b[1;31mSyntaxError\u001b[0m\u001b[1;31m:\u001b[0m (unicode error) 'unicodeescape' codec can't decode bytes in position 2-3: truncated \\UXXXXXXXX escape\n"
     ]
    }
   ],
   "source": [
    "import imageio\n",
    "import imgaug as ia\n",
    "%matplotlib inline\n",
    "\n",
    "image = imageio.imread(\"C:/Users/Owner/Desktop/dissertation/data/train/13_left.jpeg\")\n",
    "\n",
    "print(\"Original:\")\n",
    "ia.imshow(image)\n",
    "\n",
    "\n"
   ]
  },
  {
   "cell_type": "code",
   "execution_count": null,
   "metadata": {},
   "outputs": [],
   "source": []
  }
 ]
}